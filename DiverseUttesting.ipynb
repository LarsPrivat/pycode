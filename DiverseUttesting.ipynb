{
 "cells": [
  {
   "cell_type": "code",
   "execution_count": null,
   "metadata": {},
   "outputs": [],
   "source": []
  },
  {
   "cell_type": "code",
   "execution_count": 1,
   "metadata": {},
   "outputs": [
    {
     "name": "stdout",
     "output_type": "stream",
     "text": [
      "hello world\n"
     ]
    }
   ],
   "source": [
    "print(\"hello world\")"
   ]
  },
  {
   "cell_type": "code",
   "execution_count": null,
   "metadata": {},
   "outputs": [],
   "source": [
    "# import the library\n",
    "import urllib\n",
    "\n",
    "# use it\n",
    "urllib.urlopen(...)"
   ]
  },
  {
   "cell_type": "code",
   "execution_count": null,
   "metadata": {},
   "outputs": [],
   "source": [
    "import urllib\n",
    "dir(urllib)"
   ]
  },
  {
   "cell_type": "code",
   "execution_count": 5,
   "metadata": {},
   "outputs": [],
   "source": [
    "import re\n",
    "\n",
    "# Sample list of strings\n",
    "find_members = [s for s in dir(re) if re.compile(r'find').search(s)]\n"
   ]
  },
  {
   "cell_type": "code",
   "execution_count": null,
   "metadata": {},
   "outputs": [],
   "source": [
    "import re\n",
    "\n",
    "# Your code goes here\n",
    "find_members = []\n",
    "for member in dir(re):\n",
    "    if \"find\" in member:\n",
    "        find_members.append(member)\n",
    "\n",
    "print(sorted(find_members))"
   ]
  },
  {
   "cell_type": "code",
   "execution_count": 16,
   "metadata": {},
   "outputs": [
    {
     "name": "stdout",
     "output_type": "stream",
     "text": [
      "a\n",
      "b\n"
     ]
    }
   ],
   "source": [
    "import re\n",
    "\n",
    "print(\"a\")\n",
    "print(\"b\")\n"
   ]
  },
  {
   "cell_type": "code",
   "execution_count": 18,
   "metadata": {},
   "outputs": [
    {
     "name": "stdout",
     "output_type": "stream",
     "text": [
      "Hello, hei!\n"
     ]
    }
   ],
   "source": [
    "# Using raw_input() to get user input\n",
    "user_input = input(\"Enter your name: \")\n",
    "print(\"Hello, \" + user_input + \"!\")"
   ]
  },
  {
   "cell_type": "code",
   "execution_count": 21,
   "metadata": {},
   "outputs": [
    {
     "name": "stdout",
     "output_type": "stream",
     "text": [
      "32 43 86\n"
     ]
    }
   ],
   "source": [
    "#give two integers in first line and more than two integers in third line\n",
    "a, b = map(int, input().split())\n",
    "array = input().split()\n",
    "sum = 0\n",
    "for each in array:\n",
    "    sum = sum + int(each)\n",
    "print(a, b, sum)  # prints first two integers from first line and sum of integers of second line"
   ]
  },
  {
   "cell_type": "code",
   "execution_count": null,
   "metadata": {},
   "outputs": [],
   "source": []
  },
  {
   "cell_type": "code",
   "execution_count": null,
   "metadata": {},
   "outputs": [
    {
     "name": "stdout",
     "output_type": "stream",
     "text": [
      "Lars er 52 år gammel og kommer fra Norge\n",
      "Lars er 52 år gammel og kommer fra Norge\n"
     ]
    }
   ],
   "source": [
    "name=input(\"Gi navn:\")\n",
    "alder=int(input(\"Gi alder:\"))\n",
    "land=input(\"Hvilket land:\")\n",
    "print(name, \"er\", alder, \"år gammel og kommer fra\", land)\n",
    "print(\"%s er %d år gammel og kommer fra %s\" % (name, alder, land))\n"
   ]
  },
  {
   "cell_type": "code",
   "execution_count": 46,
   "metadata": {},
   "outputs": [
    {
     "name": "stdout",
     "output_type": "stream",
     "text": [
      "And the next number is... 1!\n",
      "And the next number is... 1!\n",
      "And the next number is... 2!\n",
      "And the next number is... 3!\n",
      "And the next number is... 5!\n",
      "And the next number is... 8!\n",
      "And the next number is... 13!\n",
      "And the next number is... 21!\n",
      "And the next number is... 34!\n",
      "And the next number is... 55!\n"
     ]
    }
   ],
   "source": [
    "def fibonacci(N):\n",
    "    for i in range(N):\n",
    "        if i==0:\n",
    "            a,b=int(1),int(1)\n",
    "        else:\n",
    "            a,b=int(b),int(a+b)\n",
    "        yield a       \n",
    "\n",
    "for nr in fibonacci(10):\n",
    "    print(\"And the next number is... %d!\" %(nr))      \n"
   ]
  }
 ],
 "metadata": {
  "kernelspec": {
   "display_name": "Python 3",
   "language": "python",
   "name": "python3"
  },
  "language_info": {
   "codemirror_mode": {
    "name": "ipython",
    "version": 3
   },
   "file_extension": ".py",
   "mimetype": "text/x-python",
   "name": "python",
   "nbconvert_exporter": "python",
   "pygments_lexer": "ipython3",
   "version": "3.11.9"
  }
 },
 "nbformat": 4,
 "nbformat_minor": 2
}
